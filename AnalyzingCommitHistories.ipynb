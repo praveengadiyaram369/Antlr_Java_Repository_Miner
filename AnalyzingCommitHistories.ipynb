{
 "cells": [
  {
   "cell_type": "markdown",
   "metadata": {},
   "source": [
    "# Analyzing Antlr Pattern Evolution, MSR - 3"
   ]
  },
  {
   "cell_type": "code",
   "execution_count": 84,
   "metadata": {},
   "outputs": [],
   "source": [
    "# _importing required libraries\n",
    "import json\n",
    "import numpy as np\n",
    "import pandas as pd\n",
    "import matplotlib.pyplot as plt\n",
    "%matplotlib inline"
   ]
  },
  {
   "cell_type": "code",
   "execution_count": 85,
   "metadata": {},
   "outputs": [],
   "source": [
    "# _creating default figure size of matplotlib\n",
    "plt.rcParams['figure.figsize'] = 14.0, 7.0"
   ]
  },
  {
   "cell_type": "markdown",
   "metadata": {},
   "source": [
    "**Custom methods for Matplotlib Visualization**"
   ]
  },
  {
   "cell_type": "code",
   "execution_count": 86,
   "metadata": {},
   "outputs": [],
   "source": [
    "def show_line_graph(x_values, total_y_values, listener_y_values, visitor_y_values,x_label, y_label, title):\n",
    "    plt.plot(x_values, total_y_values, label= 'Total Complexity')\n",
    "    plt.plot(x_values, listener_y_values, label= 'Listener Complexity')\n",
    "    plt.plot(x_values, visitor_y_values, label= 'Visitor Complexity')\n",
    "    plt.xlabel(x_label)\n",
    "    plt.ylabel(y_label)\n",
    "    plt.title(title)\n",
    "    plt.legend(loc=\"upper left\")\n",
    "    plt.savefig('results/'+'avg_commit_comp_linegraph.png', bbox_inches='tight')\n",
    "    plt.show()"
   ]
  },
  {
   "cell_type": "code",
   "execution_count": 87,
   "metadata": {},
   "outputs": [],
   "source": [
    "def show_pie_chart(data_1, data_2, data_3, labels, explode, title):\n",
    "\n",
    "    fig, (axes_1, axes_2, axes_3) = plt.subplots(nrows=1, ncols=3)\n",
    "    \n",
    "    p1 = axes_1.pie(data_1, explode= explode, shadow= True, autopct= '%1.1f%%', startangle=90)\n",
    "    axes_1.set_title('After Commit 1')\n",
    "    p2 = axes_2.pie(data_2, explode= explode, shadow= True, autopct= '%1.1f%%', startangle=90)\n",
    "    axes_2.set_title('After Commit 5')\n",
    "    p3 = axes_3.pie(data_3, explode= explode, shadow= True, autopct= '%1.1f%%', startangle=90)  \n",
    "    axes_3.set_title('After Commit 10')\n",
    "\n",
    "    # Create the legend\n",
    "    fig.legend([p1, p2, p3],     # The line objects\n",
    "               labels=labels,   # The labels for each line\n",
    "               loc=\"upper right\",   # Position of legend\n",
    "               borderaxespad=0.1,    # Small spacing around legend box\n",
    "               )\n",
    "    \n",
    "    plt.suptitle(title)\n",
    "    plt.tight_layout()\n",
    "    plt.savefig('results/'+'repo_pattern_piechart.png', bbox_inches='tight')\n",
    "    plt.show()"
   ]
  },
  {
   "cell_type": "code",
   "execution_count": 88,
   "metadata": {},
   "outputs": [],
   "source": [
    "# _this method returns the counts of repositories which are having either listener or visitor or both respectively\n",
    "def get_pattern_cnt_with_commit(commit_id):\n",
    "    \n",
    "    # _initializing counts to zero\n",
    "    listener_repo_cnt = 0\n",
    "    visitor_repo_cnt = 0\n",
    "    both_listener_visitor_cnt = 0\n",
    "    \n",
    "    # _filtering commits based on the commit id\n",
    "    repo_commit_bar_df = repo_commit_df.loc[repo_commit_df['commit_group_id'] == commit_id]\n",
    "    \n",
    "    # _incrementing pattern count with respect to pattern complexity of the repository\n",
    "    for listener_comp, visitor_comp in zip(repo_commit_bar_df['listener_complexity'], repo_commit_bar_df['visitor_complexity']):\n",
    "        if listener_comp > 0 and visitor_comp > 0:\n",
    "            both_listener_visitor_cnt += 1\n",
    "        elif listener_comp > 0:\n",
    "            listener_repo_cnt += 1\n",
    "        elif visitor_comp > 0:\n",
    "            visitor_repo_cnt += 1\n",
    "            \n",
    "    return listener_repo_cnt, visitor_repo_cnt, both_listener_visitor_cnt"
   ]
  },
  {
   "cell_type": "code",
   "execution_count": 89,
   "metadata": {},
   "outputs": [],
   "source": [
    "# _this method creates a map(list of tuples basically) which holds the information of repository and its majority complexity pattern\n",
    "def get_repo_pattern_map(repo_pattern_comp_df):\n",
    "    \n",
    "    # _initializng list to empty\n",
    "    repo_pattern_list = []\n",
    "    \n",
    "    # _a repository is assigned as visitor or listener, based on the respective complexity\n",
    "    # _repo pattern = max_complexity(listener_complexity, visitor_complexity)\n",
    "    for repo_id, listener_cnt, visitor_cnt in zip(repo_pattern_comp_df['repo_index'], repo_pattern_comp_df['listener_complexity'], repo_pattern_comp_df['visitor_complexity']):\n",
    "        \n",
    "        if listener_cnt > visitor_cnt:\n",
    "            repo_pattern_list.append((repo_id, 'listener'))\n",
    "        elif visitor_cnt > listener_cnt:\n",
    "            repo_pattern_list.append((repo_id, 'visitor'))\n",
    "    \n",
    "    return repo_pattern_list"
   ]
  },
  {
   "cell_type": "code",
   "execution_count": 90,
   "metadata": {},
   "outputs": [],
   "source": [
    "# _this method generates commit and file data readily loaded to pandas dataframe - tuple -- row in a dataframe\n",
    "def get_commit_complexity_data(repo_id, commit):\n",
    "    \n",
    "    # _initializing the complexities to zero\n",
    "    listener_complexity = 0\n",
    "    visitor_complexity = 0\n",
    "    \n",
    "    # _complexity of Antlr pattern = sum(method_counts in all antlr files after that particular commit) \n",
    "    for antlr_file in commit['_changed_files_list']:\n",
    "        listener_complexity += (antlr_file['_enter_cnt'] + antlr_file['_exit_cnt'])\n",
    "        visitor_complexity += antlr_file['_visit_cnt']\n",
    "        \n",
    "    return (repo_id, commit['_commit_index'], commit['_sha_id'], commit['_timestamp'], (listener_complexity + visitor_complexity), listener_complexity, visitor_complexity)"
   ]
  },
  {
   "cell_type": "code",
   "execution_count": 91,
   "metadata": {},
   "outputs": [],
   "source": [
    "# _this method is the satrting point of this notebook\n",
    "# _consolidated json file is being parsed and transformaed to pandas dataframe\n",
    "with open('final_repo_data.json', \"r\", encoding='utf-8', errors='ignore') as infile:\n",
    "    \n",
    "    # _initializing lists to empty list\n",
    "    repo_info_list = []\n",
    "    repo_commit_data_list = []\n",
    "    \n",
    "    # _using in-built json library, loading file data to a json object\n",
    "    json_object_list = json.load(infile, strict=False)\n",
    "    \n",
    "    # _analyzing each repo object from the consolidated json object\n",
    "    for repo in json_object_list:\n",
    "        repo_info_list.append((repo['_repo_id'], repo['_repo_name'], repo['_total_commits'], len(repo['_commit_history'])))\n",
    "        \n",
    "        # _analyzing each commit object inside a repo object\n",
    "        for commit in repo['_commit_history']:\n",
    "            repo_commit_data_list.append(get_commit_complexity_data(repo['_repo_id'], commit))"
   ]
  },
  {
   "cell_type": "code",
   "execution_count": 92,
   "metadata": {},
   "outputs": [
    {
     "data": {
      "text/html": [
       "<div>\n",
       "<style scoped>\n",
       "    .dataframe tbody tr th:only-of-type {\n",
       "        vertical-align: middle;\n",
       "    }\n",
       "\n",
       "    .dataframe tbody tr th {\n",
       "        vertical-align: top;\n",
       "    }\n",
       "\n",
       "    .dataframe thead th {\n",
       "        text-align: right;\n",
       "    }\n",
       "</style>\n",
       "<table border=\"1\" class=\"dataframe\">\n",
       "  <thead>\n",
       "    <tr style=\"text-align: right;\">\n",
       "      <th></th>\n",
       "      <th>repo_name</th>\n",
       "      <th>repo_total_commits</th>\n",
       "      <th>mined_commits</th>\n",
       "    </tr>\n",
       "    <tr>\n",
       "      <th>repo_index</th>\n",
       "      <th></th>\n",
       "      <th></th>\n",
       "      <th></th>\n",
       "    </tr>\n",
       "  </thead>\n",
       "  <tbody>\n",
       "    <tr>\n",
       "      <td>1</td>\n",
       "      <td>4455jkjh/Apktool-android</td>\n",
       "      <td>9</td>\n",
       "      <td>5</td>\n",
       "    </tr>\n",
       "    <tr>\n",
       "      <td>2</td>\n",
       "      <td>52Jolynn/SqlParser</td>\n",
       "      <td>36</td>\n",
       "      <td>10</td>\n",
       "    </tr>\n",
       "    <tr>\n",
       "      <td>3</td>\n",
       "      <td>Adrodoc/MPL</td>\n",
       "      <td>703</td>\n",
       "      <td>10</td>\n",
       "    </tr>\n",
       "    <tr>\n",
       "      <td>4</td>\n",
       "      <td>AlanHohn/antlr4-python</td>\n",
       "      <td>7</td>\n",
       "      <td>2</td>\n",
       "    </tr>\n",
       "    <tr>\n",
       "      <td>5</td>\n",
       "      <td>Andyccs/sqat</td>\n",
       "      <td>181</td>\n",
       "      <td>10</td>\n",
       "    </tr>\n",
       "    <tr>\n",
       "      <td>...</td>\n",
       "      <td>...</td>\n",
       "      <td>...</td>\n",
       "      <td>...</td>\n",
       "    </tr>\n",
       "    <tr>\n",
       "      <td>434</td>\n",
       "      <td>zendesk/maxwell</td>\n",
       "      <td>2965</td>\n",
       "      <td>10</td>\n",
       "    </tr>\n",
       "    <tr>\n",
       "      <td>435</td>\n",
       "      <td>zhegexiaohuozi/JsoupXpath</td>\n",
       "      <td>168</td>\n",
       "      <td>10</td>\n",
       "    </tr>\n",
       "    <tr>\n",
       "      <td>436</td>\n",
       "      <td>zhunki/skyfire</td>\n",
       "      <td>25</td>\n",
       "      <td>10</td>\n",
       "    </tr>\n",
       "    <tr>\n",
       "      <td>437</td>\n",
       "      <td>zkoss/ztl</td>\n",
       "      <td>279</td>\n",
       "      <td>10</td>\n",
       "    </tr>\n",
       "    <tr>\n",
       "      <td>438</td>\n",
       "      <td>zstackio/zstack</td>\n",
       "      <td>8683</td>\n",
       "      <td>10</td>\n",
       "    </tr>\n",
       "  </tbody>\n",
       "</table>\n",
       "<p>438 rows × 3 columns</p>\n",
       "</div>"
      ],
      "text/plain": [
       "                            repo_name  repo_total_commits  mined_commits\n",
       "repo_index                                                              \n",
       "1            4455jkjh/Apktool-android                   9              5\n",
       "2                  52Jolynn/SqlParser                  36             10\n",
       "3                         Adrodoc/MPL                 703             10\n",
       "4              AlanHohn/antlr4-python                   7              2\n",
       "5                        Andyccs/sqat                 181             10\n",
       "...                               ...                 ...            ...\n",
       "434                   zendesk/maxwell                2965             10\n",
       "435         zhegexiaohuozi/JsoupXpath                 168             10\n",
       "436                    zhunki/skyfire                  25             10\n",
       "437                         zkoss/ztl                 279             10\n",
       "438                   zstackio/zstack                8683             10\n",
       "\n",
       "[438 rows x 3 columns]"
      ]
     },
     "execution_count": 92,
     "metadata": {},
     "output_type": "execute_result"
    }
   ],
   "source": [
    "# _transform list of tuples to pandas dataframe - holds only repo information\n",
    "repo_info_df = pd.DataFrame(repo_info_list, columns=['repo_index', 'repo_name', 'repo_total_commits', 'mined_commits'])\n",
    "repo_info_df.set_index('repo_index', inplace=True) # _setting index to unique repo id\n",
    "repo_info_df.sort_values('repo_index', ascending=True, inplace=True) # _sorting dataframe based on repo index\n",
    "repo_info_df"
   ]
  },
  {
   "cell_type": "code",
   "execution_count": 93,
   "metadata": {},
   "outputs": [
    {
     "data": {
      "text/plain": [
       "(411, 3)"
      ]
     },
     "execution_count": 93,
     "metadata": {},
     "output_type": "execute_result"
    }
   ],
   "source": [
    "# _data_filtering - removing insignificant data\n",
    "# _considering the commits which have atleast 10 mined commits, to keep uniformity in the distribution \n",
    "repo_info_df = repo_info_df.loc[repo_info_df['mined_commits'] > 9]\n",
    "repo_info_df.shape"
   ]
  },
  {
   "cell_type": "code",
   "execution_count": 94,
   "metadata": {},
   "outputs": [
    {
     "data": {
      "text/html": [
       "<div>\n",
       "<style scoped>\n",
       "    .dataframe tbody tr th:only-of-type {\n",
       "        vertical-align: middle;\n",
       "    }\n",
       "\n",
       "    .dataframe tbody tr th {\n",
       "        vertical-align: top;\n",
       "    }\n",
       "\n",
       "    .dataframe thead th {\n",
       "        text-align: right;\n",
       "    }\n",
       "</style>\n",
       "<table border=\"1\" class=\"dataframe\">\n",
       "  <thead>\n",
       "    <tr style=\"text-align: right;\">\n",
       "      <th></th>\n",
       "      <th>repo_index</th>\n",
       "      <th>commit_id</th>\n",
       "      <th>hash_id</th>\n",
       "      <th>timestamp</th>\n",
       "      <th>complexity</th>\n",
       "      <th>listener_complexity</th>\n",
       "      <th>visitor_complexity</th>\n",
       "    </tr>\n",
       "  </thead>\n",
       "  <tbody>\n",
       "    <tr>\n",
       "      <td>2165</td>\n",
       "      <td>1</td>\n",
       "      <td>1</td>\n",
       "      <td>2e0679cb43e155549d364529801c070fac311db1</td>\n",
       "      <td>2019-02-23 17:00:54+00:00</td>\n",
       "      <td>0</td>\n",
       "      <td>0</td>\n",
       "      <td>0</td>\n",
       "    </tr>\n",
       "    <tr>\n",
       "      <td>2166</td>\n",
       "      <td>1</td>\n",
       "      <td>4</td>\n",
       "      <td>8c212d9f4352788498e802acd961fed72ef6e35f</td>\n",
       "      <td>2019-02-24 20:53:29+08:00</td>\n",
       "      <td>50</td>\n",
       "      <td>0</td>\n",
       "      <td>50</td>\n",
       "    </tr>\n",
       "    <tr>\n",
       "      <td>2167</td>\n",
       "      <td>1</td>\n",
       "      <td>6</td>\n",
       "      <td>fb1f556579e93c7bd23a4a9bd946533043e618fc</td>\n",
       "      <td>2019-03-10 22:31:35+08:00</td>\n",
       "      <td>0</td>\n",
       "      <td>0</td>\n",
       "      <td>0</td>\n",
       "    </tr>\n",
       "    <tr>\n",
       "      <td>2168</td>\n",
       "      <td>1</td>\n",
       "      <td>7</td>\n",
       "      <td>6b6abb2bf9c6b0feccd658053a531cb75280e8f5</td>\n",
       "      <td>2019-04-08 19:10:33+08:00</td>\n",
       "      <td>111</td>\n",
       "      <td>0</td>\n",
       "      <td>111</td>\n",
       "    </tr>\n",
       "    <tr>\n",
       "      <td>2169</td>\n",
       "      <td>1</td>\n",
       "      <td>9</td>\n",
       "      <td>4c1841a582d1e79cb87d9221f948cf06a63e8384</td>\n",
       "      <td>2019-05-16 21:51:33+08:00</td>\n",
       "      <td>111</td>\n",
       "      <td>0</td>\n",
       "      <td>111</td>\n",
       "    </tr>\n",
       "  </tbody>\n",
       "</table>\n",
       "</div>"
      ],
      "text/plain": [
       "      repo_index  commit_id                                   hash_id  \\\n",
       "2165           1          1  2e0679cb43e155549d364529801c070fac311db1   \n",
       "2166           1          4  8c212d9f4352788498e802acd961fed72ef6e35f   \n",
       "2167           1          6  fb1f556579e93c7bd23a4a9bd946533043e618fc   \n",
       "2168           1          7  6b6abb2bf9c6b0feccd658053a531cb75280e8f5   \n",
       "2169           1          9  4c1841a582d1e79cb87d9221f948cf06a63e8384   \n",
       "\n",
       "                      timestamp  complexity  listener_complexity  \\\n",
       "2165  2019-02-23 17:00:54+00:00           0                    0   \n",
       "2166  2019-02-24 20:53:29+08:00          50                    0   \n",
       "2167  2019-03-10 22:31:35+08:00           0                    0   \n",
       "2168  2019-04-08 19:10:33+08:00         111                    0   \n",
       "2169  2019-05-16 21:51:33+08:00         111                    0   \n",
       "\n",
       "      visitor_complexity  \n",
       "2165                   0  \n",
       "2166                  50  \n",
       "2167                   0  \n",
       "2168                 111  \n",
       "2169                 111  "
      ]
     },
     "execution_count": 94,
     "metadata": {},
     "output_type": "execute_result"
    }
   ],
   "source": [
    "# _transform list of tuples to pandas dataframe - holds the information of repo, commit and also complexity \n",
    "repo_commit_df = pd.DataFrame(repo_commit_data_list, columns=['repo_index', 'commit_id', 'hash_id', 'timestamp', 'complexity', 'listener_complexity', 'visitor_complexity'])\n",
    "repo_commit_df.sort_values(['repo_index', 'commit_id'], ascending=[True, True], inplace=True)\n",
    "repo_commit_df.head()"
   ]
  },
  {
   "cell_type": "code",
   "execution_count": 95,
   "metadata": {},
   "outputs": [],
   "source": [
    "initial_repo_index = 1\n",
    "previous_visit_complexity = 0\n",
    "previous_listener_complexity = 0\n",
    "\n",
    "for df_id, repo_index, visit_comp, listener_comp in zip(repo_commit_df.index, repo_commit_df['repo_index'], repo_commit_df['visitor_complexity'], repo_commit_df['listener_complexity']):\n",
    "    \n",
    "    if initial_repo_index == repo_index:\n",
    "        if visit_comp != 0:\n",
    "            previous_visit_complexity = visit_comp\n",
    "        elif visit_comp == 0:\n",
    "            repo_commit_df.at[df_id, 'visitor_complexity'] = previous_visit_complexity\n",
    "            \n",
    "            \n",
    "        if listener_comp != 0:\n",
    "            previous_listener_complexity = listener_comp\n",
    "        elif listener_comp == 0:\n",
    "            repo_commit_df.at[df_id, 'listener_complexity'] = previous_listener_complexity\n",
    "        \n",
    "        repo_commit_df.at[df_id, 'complexity'] = (previous_listener_complexity + previous_visit_complexity)\n",
    "        \n",
    "    else:\n",
    "        initial_repo_index = repo_index\n",
    "        previous_visit_complexity = visit_comp\n",
    "        previous_listener_complexity = listener_comp"
   ]
  },
  {
   "cell_type": "code",
   "execution_count": 96,
   "metadata": {},
   "outputs": [
    {
     "data": {
      "text/plain": [
       "(4110, 7)"
      ]
     },
     "execution_count": 96,
     "metadata": {},
     "output_type": "execute_result"
    }
   ],
   "source": [
    "# _appling the filtered repos on commit dataframe\n",
    "repo_index_list = list(repo_info_df.index)\n",
    "repo_commit_df = repo_commit_df.loc[repo_commit_df['repo_index'].isin(repo_index_list)]\n",
    "repo_commit_df.shape"
   ]
  },
  {
   "cell_type": "code",
   "execution_count": 97,
   "metadata": {},
   "outputs": [
    {
     "data": {
      "text/plain": [
       "(4110, 8)"
      ]
     },
     "execution_count": 97,
     "metadata": {},
     "output_type": "execute_result"
    }
   ],
   "source": [
    "# _initializing commit rank list to emplty list \n",
    "commit_group_index_list = []\n",
    "sample_list = range(1, 11)\n",
    "\n",
    "# _assigning rank for each commit\n",
    "for value in range(len(repo_info_df.index)):\n",
    "    commit_group_index_list.extend(sample_list)\n",
    "\n",
    "# _adding new column to the dataframe to signify commit rank\n",
    "repo_commit_df['commit_group_id'] = commit_group_index_list\n",
    "repo_commit_df.shape"
   ]
  },
  {
   "cell_type": "code",
   "execution_count": 98,
   "metadata": {},
   "outputs": [
    {
     "data": {
      "text/plain": [
       "(264, 2)"
      ]
     },
     "execution_count": 98,
     "metadata": {},
     "output_type": "execute_result"
    }
   ],
   "source": [
    "# _finding repositories which has antlr files in any commit(perforing the oppsoite/ filtering non-zero antlr complexity)\n",
    "repo_complexity_df = repo_commit_df.groupby('repo_index', as_index=False)['complexity'].sum()\n",
    "repo_complexity_df = repo_complexity_df.loc[repo_complexity_df['complexity'] != 0.0]\n",
    "repo_complexity_df.shape"
   ]
  },
  {
   "cell_type": "code",
   "execution_count": 99,
   "metadata": {},
   "outputs": [
    {
     "data": {
      "text/plain": [
       "(2640, 8)"
      ]
     },
     "execution_count": 99,
     "metadata": {},
     "output_type": "execute_result"
    }
   ],
   "source": [
    "# _data_filtering - removing outliers\n",
    "# _filtering all repositories which has no antlr file in any commit\n",
    "repo_commit_df = repo_commit_df.loc[repo_commit_df['repo_index'].isin(repo_complexity_df.repo_index)]\n",
    "repo_commit_df.shape"
   ]
  },
  {
   "cell_type": "code",
   "execution_count": 100,
   "metadata": {},
   "outputs": [],
   "source": [
    "# _calculating the average complexity of commits by group them with respect to their commit rank\n",
    "avg_commit_comp_df = repo_commit_df.groupby('commit_group_id', as_index=False)['complexity'].mean()\n",
    "total_y_values = avg_commit_comp_df['complexity']\n",
    "\n",
    "# _calculating the average listener_complexity of commits by group them with respect to their commit rank\n",
    "avg_commit_comp_df = repo_commit_df.groupby('commit_group_id', as_index=False)['listener_complexity'].mean()\n",
    "listener_y_values = avg_commit_comp_df['listener_complexity']\n",
    "\n",
    "# _calculating the average visitor_complexity of commits by group them with respect to their commit rank\n",
    "avg_commit_comp_df = repo_commit_df.groupby('commit_group_id', as_index=False)['visitor_complexity'].mean()\n",
    "visitor_y_values = avg_commit_comp_df['visitor_complexity']"
   ]
  },
  {
   "cell_type": "code",
   "execution_count": 101,
   "metadata": {},
   "outputs": [
    {
     "data": {
      "image/png": "[encoded data removed]",
      "text/plain": [
       "<Figure size 1008x504 with 1 Axes>"
      ]
     },
     "metadata": {
      "needs_background": "light"
     },
     "output_type": "display_data"
    }
   ],
   "source": [
    "# _intializing line graph details \n",
    "x_values = ['c_'+str(value) for value in avg_commit_comp_df['commit_group_id']]\n",
    "# _plotting line graphs with (Avg complexity vs linear commits)\n",
    "show_line_graph(x_values, total_y_values, listener_y_values, visitor_y_values, \"commits(1-10)\", \"Average Complexity\", \"All Repositories Complexity Distribution of linear commits\")"
   ]
  },
  {
   "cell_type": "code",
   "execution_count": 102,
   "metadata": {},
   "outputs": [],
   "source": [
    "# _Finding Pattern Switches from the first commit to last commit\n",
    "# _assigning pattern on basis of max complexity after commit 1\n",
    "repo_pattern_comp_df = repo_commit_df.loc[repo_commit_df['commit_group_id'] == 1]\n",
    "repo_pattern_list_1 = get_repo_pattern_map(repo_pattern_comp_df)"
   ]
  },
  {
   "cell_type": "code",
   "execution_count": 103,
   "metadata": {},
   "outputs": [],
   "source": [
    "# _assigning pattern on basis of max complexity after commit 10\n",
    "repo_pattern_comp_df = repo_commit_df.loc[repo_commit_df['commit_group_id'] == 10]\n",
    "repo_pattern_list_10 = get_repo_pattern_map(repo_pattern_comp_df)"
   ]
  },
  {
   "cell_type": "code",
   "execution_count": 104,
   "metadata": {},
   "outputs": [
    {
     "data": {
      "text/html": [
       "<div>\n",
       "<style scoped>\n",
       "    .dataframe tbody tr th:only-of-type {\n",
       "        vertical-align: middle;\n",
       "    }\n",
       "\n",
       "    .dataframe tbody tr th {\n",
       "        vertical-align: top;\n",
       "    }\n",
       "\n",
       "    .dataframe thead th {\n",
       "        text-align: right;\n",
       "    }\n",
       "</style>\n",
       "<table border=\"1\" class=\"dataframe\">\n",
       "  <thead>\n",
       "    <tr style=\"text-align: right;\">\n",
       "      <th></th>\n",
       "      <th>start_antlr_pattern</th>\n",
       "      <th>end_antlr_pattern</th>\n",
       "    </tr>\n",
       "    <tr>\n",
       "      <th>repo_index</th>\n",
       "      <th></th>\n",
       "      <th></th>\n",
       "    </tr>\n",
       "  </thead>\n",
       "  <tbody>\n",
       "    <tr>\n",
       "      <td>6</td>\n",
       "      <td>listener</td>\n",
       "      <td>listener</td>\n",
       "    </tr>\n",
       "    <tr>\n",
       "      <td>7</td>\n",
       "      <td>visitor</td>\n",
       "      <td>visitor</td>\n",
       "    </tr>\n",
       "    <tr>\n",
       "      <td>9</td>\n",
       "      <td>listener</td>\n",
       "      <td>listener</td>\n",
       "    </tr>\n",
       "    <tr>\n",
       "      <td>18</td>\n",
       "      <td>visitor</td>\n",
       "      <td>visitor</td>\n",
       "    </tr>\n",
       "    <tr>\n",
       "      <td>20</td>\n",
       "      <td>listener</td>\n",
       "      <td>listener</td>\n",
       "    </tr>\n",
       "    <tr>\n",
       "      <td>...</td>\n",
       "      <td>...</td>\n",
       "      <td>...</td>\n",
       "    </tr>\n",
       "    <tr>\n",
       "      <td>433</td>\n",
       "      <td>NaN</td>\n",
       "      <td>visitor</td>\n",
       "    </tr>\n",
       "    <tr>\n",
       "      <td>434</td>\n",
       "      <td>NaN</td>\n",
       "      <td>listener</td>\n",
       "    </tr>\n",
       "    <tr>\n",
       "      <td>435</td>\n",
       "      <td>NaN</td>\n",
       "      <td>visitor</td>\n",
       "    </tr>\n",
       "    <tr>\n",
       "      <td>437</td>\n",
       "      <td>NaN</td>\n",
       "      <td>listener</td>\n",
       "    </tr>\n",
       "    <tr>\n",
       "      <td>438</td>\n",
       "      <td>NaN</td>\n",
       "      <td>visitor</td>\n",
       "    </tr>\n",
       "  </tbody>\n",
       "</table>\n",
       "<p>262 rows × 2 columns</p>\n",
       "</div>"
      ],
      "text/plain": [
       "           start_antlr_pattern end_antlr_pattern\n",
       "repo_index                                      \n",
       "6                     listener          listener\n",
       "7                      visitor           visitor\n",
       "9                     listener          listener\n",
       "18                     visitor           visitor\n",
       "20                    listener          listener\n",
       "...                        ...               ...\n",
       "433                        NaN           visitor\n",
       "434                        NaN          listener\n",
       "435                        NaN           visitor\n",
       "437                        NaN          listener\n",
       "438                        NaN           visitor\n",
       "\n",
       "[262 rows x 2 columns]"
      ]
     },
     "execution_count": 104,
     "metadata": {},
     "output_type": "execute_result"
    }
   ],
   "source": [
    "# _transforming repository pattern information to a pandas dataframe\n",
    "repo_pattern_df_1 = pd.DataFrame(repo_pattern_list_1, columns=['repo_index', 'start_antlr_pattern'])\n",
    "repo_pattern_df_1.set_index('repo_index', inplace=True)\n",
    "repo_pattern_df_10 = pd.DataFrame(repo_pattern_list_10, columns=['repo_index', 'end_antlr_pattern'])\n",
    "repo_pattern_df_10.set_index('repo_index', inplace=True)\n",
    "\n",
    "# _merging commit 1 and commit 10 pattern dataframes based on the repo index\n",
    "repo_pattern_df = pd.merge(repo_pattern_df_1, repo_pattern_df_10, on = 'repo_index', how='outer')\n",
    "repo_pattern_df"
   ]
  },
  {
   "cell_type": "code",
   "execution_count": 105,
   "metadata": {},
   "outputs": [
    {
     "name": "stdout",
     "output_type": "stream",
     "text": [
      "No.of Repositories switched antlr patterns - 0\n"
     ]
    }
   ],
   "source": [
    "# _initializing pattern switch count to zero\n",
    "pattern_switch_cnt = 0\n",
    "\n",
    "# _incrementing count, if there are any switch (start pattern is different from end pattern)\n",
    "for repo_index, start_pattern, end_pattern in zip(repo_pattern_df.index, repo_pattern_df['start_antlr_pattern'], repo_pattern_df['end_antlr_pattern']):\n",
    "    if start_pattern in ('visitor', 'listener') and start_pattern != end_pattern:\n",
    "        print(f'Repository {repo_index} switched from {start_pattern} pattern to {end_pattern}')\n",
    "        pattern_switch_cnt += 1\n",
    "        \n",
    "print(f'No.of Repositories switched antlr patterns - {pattern_switch_cnt}')"
   ]
  },
  {
   "cell_type": "code",
   "execution_count": 106,
   "metadata": {},
   "outputs": [],
   "source": [
    "#_ as pattern switches are very insignificant, we are analyzing the percentage of patterns after commits\n",
    "# _finding listener, visitor and both (l,v) counts after commit 1, 5 and 10 respectively\n",
    "listener_cnt_1, visitor_cnt_1, listener_visitor_1 = get_pattern_cnt_with_commit(1)\n",
    "listener_cnt_5, visitor_cnt_5, listener_visitor_5 = get_pattern_cnt_with_commit(5)\n",
    "listener_cnt_10, visitor_cnt_10, listener_visitor_10 = get_pattern_cnt_with_commit(10)"
   ]
  },
  {
   "cell_type": "code",
   "execution_count": 107,
   "metadata": {},
   "outputs": [],
   "source": [
    "pie_chart_datapoints_1 = [listener_visitor_1, listener_cnt_1, visitor_cnt_1]\n",
    "pie_chart_datapoints_5 = [listener_visitor_5, listener_cnt_5, visitor_cnt_5]\n",
    "pie_chart_datapoints_10 = [listener_visitor_10, listener_cnt_10, visitor_cnt_10]\n",
    "pie_chart_labels = ['Listener and Visitor', 'Only Listener', 'Only Visitor']"
   ]
  },
  {
   "cell_type": "code",
   "execution_count": 108,
   "metadata": {},
   "outputs": [
    {
     "name": "stderr",
     "output_type": "stream",
     "text": [
      "/home/praveen/anaconda3/lib/python3.7/site-packages/ipykernel_launcher.py:16: UserWarning: You have mixed positional and keyword arguments, some input may be discarded.\n",
      "  app.launch_new_instance()\n"
     ]
    },
    {
     "data": {
      "image/png": "[encoded data removed]",
      "text/plain": [
       "<Figure size 1008x504 with 3 Axes>"
      ]
     },
     "metadata": {},
     "output_type": "display_data"
    }
   ],
   "source": [
    "# _analyzing repository pattern counts (in percentages), to get the information pattern adoption over the time of all commits\n",
    "show_pie_chart(pie_chart_datapoints_1, pie_chart_datapoints_5, pie_chart_datapoints_10, pie_chart_labels, [0.2, 0, 0], 'Antlr Pattern Distribution')"
   ]
  }
 ],
 "metadata": {
  "kernelspec": {
   "display_name": "Python 3",
   "language": "python",
   "name": "python3"
  },
  "language_info": {
   "codemirror_mode": {
    "name": "ipython",
    "version": 3
   },
   "file_extension": ".py",
   "mimetype": "text/x-python",
   "name": "python",
   "nbconvert_exporter": "python",
   "pygments_lexer": "ipython3",
   "version": "3.7.4"
  }
 },
 "nbformat": 4,
 "nbformat_minor": 2
}
