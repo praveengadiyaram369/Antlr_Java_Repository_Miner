{
 "cells": [
  {
   "cell_type": "code",
   "execution_count": 14,
   "metadata": {},
   "outputs": [],
   "source": [
    "import json\n",
    "from datetime import datetime\n",
    "import pandas as pd\n",
    "import matplotlib.pyplot as plt\n",
    "import matplotlib.dates as mdates\n",
    "%matplotlib inline"
   ]
  },
  {
   "cell_type": "code",
   "execution_count": 2,
   "metadata": {},
   "outputs": [],
   "source": [
    "def get_commit_compleity_data(repo_id, commit):\n",
    "    commit_complexity = 0\n",
    "    for antlr_file in commit['_changed_files_list']:\n",
    "        commit_complexity += (antlr_file['_enter_cnt'] + antlr_file['_exit_cnt'] + antlr_file['_visit_cnt'])\n",
    "    return (repo_id, commit['_commit_index'], commit['_sha_id'], commit['_timestamp'], commit_complexity)"
   ]
  },
  {
   "cell_type": "code",
   "execution_count": 3,
   "metadata": {},
   "outputs": [],
   "source": [
    "with open('final_repo_data.json', \"r\", encoding='utf-8', errors='ignore') as infile:\n",
    "    repo_info_list = []\n",
    "    repo_commit_data_list = []\n",
    "    json_object_list = json.load(infile, strict=False)\n",
    "    for repo in json_object_list:\n",
    "        repo_info_list.append((repo['_repo_id'], repo['_repo_name'], repo['_total_commits']))\n",
    "        for commit in repo['_commit_history']:\n",
    "            repo_commit_data_list.append(get_commit_compleity_data(repo['_repo_id'], commit))"
   ]
  },
  {
   "cell_type": "code",
   "execution_count": 4,
   "metadata": {},
   "outputs": [
    {
     "data": {
      "text/html": [
       "<div>\n",
       "<style scoped>\n",
       "    .dataframe tbody tr th:only-of-type {\n",
       "        vertical-align: middle;\n",
       "    }\n",
       "\n",
       "    .dataframe tbody tr th {\n",
       "        vertical-align: top;\n",
       "    }\n",
       "\n",
       "    .dataframe thead th {\n",
       "        text-align: right;\n",
       "    }\n",
       "</style>\n",
       "<table border=\"1\" class=\"dataframe\">\n",
       "  <thead>\n",
       "    <tr style=\"text-align: right;\">\n",
       "      <th></th>\n",
       "      <th>repo_index</th>\n",
       "      <th>repo_name</th>\n",
       "      <th>repo_total_commits</th>\n",
       "    </tr>\n",
       "  </thead>\n",
       "  <tbody>\n",
       "    <tr>\n",
       "      <td>0</td>\n",
       "      <td>8</td>\n",
       "      <td>Algogo</td>\n",
       "      <td>135</td>\n",
       "    </tr>\n",
       "    <tr>\n",
       "      <td>1</td>\n",
       "      <td>1</td>\n",
       "      <td>JSONata4Java</td>\n",
       "      <td>35</td>\n",
       "    </tr>\n",
       "    <tr>\n",
       "      <td>2</td>\n",
       "      <td>6</td>\n",
       "      <td>aliyun-odps-console</td>\n",
       "      <td>14</td>\n",
       "    </tr>\n",
       "    <tr>\n",
       "      <td>3</td>\n",
       "      <td>4</td>\n",
       "      <td>ameba</td>\n",
       "      <td>965</td>\n",
       "    </tr>\n",
       "    <tr>\n",
       "      <td>4</td>\n",
       "      <td>5</td>\n",
       "      <td>Alchitry-Labs</td>\n",
       "      <td>86</td>\n",
       "    </tr>\n",
       "  </tbody>\n",
       "</table>\n",
       "</div>"
      ],
      "text/plain": [
       "   repo_index            repo_name  repo_total_commits\n",
       "0           8               Algogo                 135\n",
       "1           1         JSONata4Java                  35\n",
       "2           6  aliyun-odps-console                  14\n",
       "3           4                ameba                 965\n",
       "4           5        Alchitry-Labs                  86"
      ]
     },
     "execution_count": 4,
     "metadata": {},
     "output_type": "execute_result"
    }
   ],
   "source": [
    "repo_info_df = pd.DataFrame(repo_info_list, columns=['repo_index', 'repo_name', 'repo_total_commits'])\n",
    "repo_info_df.head()"
   ]
  },
  {
   "cell_type": "code",
   "execution_count": 5,
   "metadata": {},
   "outputs": [
    {
     "data": {
      "text/html": [
       "<div>\n",
       "<style scoped>\n",
       "    .dataframe tbody tr th:only-of-type {\n",
       "        vertical-align: middle;\n",
       "    }\n",
       "\n",
       "    .dataframe tbody tr th {\n",
       "        vertical-align: top;\n",
       "    }\n",
       "\n",
       "    .dataframe thead th {\n",
       "        text-align: right;\n",
       "    }\n",
       "</style>\n",
       "<table border=\"1\" class=\"dataframe\">\n",
       "  <thead>\n",
       "    <tr style=\"text-align: right;\">\n",
       "      <th></th>\n",
       "      <th>repo_index</th>\n",
       "      <th>commit_id</th>\n",
       "      <th>hash_id</th>\n",
       "      <th>timestamp</th>\n",
       "      <th>complexity</th>\n",
       "    </tr>\n",
       "  </thead>\n",
       "  <tbody>\n",
       "    <tr>\n",
       "      <td>0</td>\n",
       "      <td>8</td>\n",
       "      <td>1</td>\n",
       "      <td>87c097001bb0bac6f99be3b40ac2b3624c56937b</td>\n",
       "      <td>2018-06-29 15:51:07+02:00</td>\n",
       "      <td>33</td>\n",
       "    </tr>\n",
       "    <tr>\n",
       "      <td>1</td>\n",
       "      <td>8</td>\n",
       "      <td>135</td>\n",
       "      <td>4c3faea70c939c4546c32c0ab4977d30d0a88f8b</td>\n",
       "      <td>2019-11-23 02:03:31+01:00</td>\n",
       "      <td>34</td>\n",
       "    </tr>\n",
       "    <tr>\n",
       "      <td>2</td>\n",
       "      <td>1</td>\n",
       "      <td>1</td>\n",
       "      <td>06e76c1ef9d16ff06aaf4a0994fda290af6e8a9a</td>\n",
       "      <td>2019-02-09 14:28:49-05:00</td>\n",
       "      <td>0</td>\n",
       "    </tr>\n",
       "    <tr>\n",
       "      <td>3</td>\n",
       "      <td>1</td>\n",
       "      <td>17</td>\n",
       "      <td>049ca7604258d59cf95ae6ba6b1e555f086fa370</td>\n",
       "      <td>2019-04-18 15:30:04+00:00</td>\n",
       "      <td>0</td>\n",
       "    </tr>\n",
       "    <tr>\n",
       "      <td>4</td>\n",
       "      <td>1</td>\n",
       "      <td>25</td>\n",
       "      <td>2dff791b7d75dc341efe42f439cfc69f81c697d0</td>\n",
       "      <td>2019-07-18 11:43:45-04:00</td>\n",
       "      <td>0</td>\n",
       "    </tr>\n",
       "  </tbody>\n",
       "</table>\n",
       "</div>"
      ],
      "text/plain": [
       "   repo_index  commit_id                                   hash_id  \\\n",
       "0           8          1  87c097001bb0bac6f99be3b40ac2b3624c56937b   \n",
       "1           8        135  4c3faea70c939c4546c32c0ab4977d30d0a88f8b   \n",
       "2           1          1  06e76c1ef9d16ff06aaf4a0994fda290af6e8a9a   \n",
       "3           1         17  049ca7604258d59cf95ae6ba6b1e555f086fa370   \n",
       "4           1         25  2dff791b7d75dc341efe42f439cfc69f81c697d0   \n",
       "\n",
       "                   timestamp  complexity  \n",
       "0  2018-06-29 15:51:07+02:00          33  \n",
       "1  2019-11-23 02:03:31+01:00          34  \n",
       "2  2019-02-09 14:28:49-05:00           0  \n",
       "3  2019-04-18 15:30:04+00:00           0  \n",
       "4  2019-07-18 11:43:45-04:00           0  "
      ]
     },
     "execution_count": 5,
     "metadata": {},
     "output_type": "execute_result"
    }
   ],
   "source": [
    "repo_complexity_df = pd.DataFrame(repo_commit_data_list, columns=['repo_index', 'commit_id', 'hash_id', 'timestamp', 'complexity'])\n",
    "repo_complexity_df.head()"
   ]
  },
  {
   "cell_type": "code",
   "execution_count": 26,
   "metadata": {},
   "outputs": [
    {
     "data": {
      "image/png": "[encoded data removed]",
      "text/plain": [
       "<Figure size 432x288 with 1 Axes>"
      ]
     },
     "metadata": {
      "needs_background": "light"
     },
     "output_type": "display_data"
    }
   ],
   "source": [
    "commit_timestamp_list = [datetime.strptime(timestamp[:-6], '%Y-%m-%d %H:%M:%S').date() for timestamp in repo_complexity_df['timestamp']]\n",
    "commit_complexity_list = list(repo_complexity_df['complexity'])\n",
    "\n",
    "plt.gca().xaxis.set_major_formatter(mdates.DateFormatter('%Y-%m-%d'))\n",
    "plt.gca().xaxis.set_major_locator(mdates.DayLocator(interval=500))\n",
    "plt.plot(commit_timestamp_list, commit_complexity_list)\n",
    "plt.gcf().autofmt_xdate()"
   ]
  }
 ],
 "metadata": {
  "kernelspec": {
   "display_name": "Python 3",
   "language": "python",
   "name": "python3"
  },
  "language_info": {
   "codemirror_mode": {
    "name": "ipython",
    "version": 3
   },
   "file_extension": ".py",
   "mimetype": "text/x-python",
   "name": "python",
   "nbconvert_exporter": "python",
   "pygments_lexer": "ipython3",
   "version": "3.7.4"
  }
 },
 "nbformat": 4,
 "nbformat_minor": 2
}
