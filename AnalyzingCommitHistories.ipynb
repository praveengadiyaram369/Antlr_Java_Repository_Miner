{
 "cells": [
  {
   "cell_type": "code",
   "execution_count": 21,
   "metadata": {},
   "outputs": [],
   "source": [
    "import json\n",
    "from datetime import datetime\n",
    "\n",
    "import numpy as np\n",
    "import pandas as pd\n",
    "import matplotlib.pyplot as plt\n",
    "import matplotlib.dates as mdates\n",
    "%matplotlib inline"
   ]
  },
  {
   "cell_type": "code",
   "execution_count": 22,
   "metadata": {},
   "outputs": [],
   "source": [
    "#_creating default figure size of matplotlib\n",
    "plt.rcParams['figure.figsize'] = 10.0, 5.0"
   ]
  },
  {
   "cell_type": "code",
   "execution_count": 44,
   "metadata": {},
   "outputs": [],
   "source": [
    "def plot_line_graph(x_values, total_y_values, listener_y_values, visitor_y_values,x_label, y_label, title):\n",
    "    plt.plot(x_values, total_y_values, label= 'Total Complexity')\n",
    "    plt.plot(x_values, listener_y_values, label= 'Listener Complexity')\n",
    "    plt.plot(x_values, visitor_y_values, label= 'Visitor Complexity')\n",
    "    plt.xlabel(x_label)\n",
    "    plt.ylabel(y_label)\n",
    "    plt.title(title)\n",
    "    plt.legend(loc=\"upper left\")\n",
    "    plt.show()"
   ]
  },
  {
   "cell_type": "code",
   "execution_count": 24,
   "metadata": {},
   "outputs": [],
   "source": [
    "def get_commit_compleity_data(repo_id, commit):\n",
    "    listener_complexity = 0\n",
    "    visitor_complexity = 0\n",
    "    for antlr_file in commit['_changed_files_list']:\n",
    "        listener_complexity += (antlr_file['_enter_cnt'] + antlr_file['_exit_cnt'])\n",
    "        visitor_complexity += antlr_file['_visit_cnt']\n",
    "    return (repo_id, commit['_commit_index'], commit['_sha_id'], commit['_timestamp'], (listener_complexity + visitor_complexity), listener_complexity, visitor_complexity)"
   ]
  },
  {
   "cell_type": "code",
   "execution_count": 25,
   "metadata": {},
   "outputs": [],
   "source": [
    "with open('final_repo_data.json', \"r\", encoding='utf-8', errors='ignore') as infile:\n",
    "    repo_info_list = []\n",
    "    repo_commit_data_list = []\n",
    "    json_object_list = json.load(infile, strict=False)\n",
    "    for repo in json_object_list:\n",
    "        repo_info_list.append((repo['_repo_id'], repo['_repo_name'], repo['_total_commits'], len(repo['_commit_history'])))\n",
    "        for commit in repo['_commit_history']:\n",
    "            repo_commit_data_list.append(get_commit_compleity_data(repo['_repo_id'], commit))"
   ]
  },
  {
   "cell_type": "code",
   "execution_count": 26,
   "metadata": {},
   "outputs": [
    {
     "data": {
      "text/html": [
       "<div>\n",
       "<style scoped>\n",
       "    .dataframe tbody tr th:only-of-type {\n",
       "        vertical-align: middle;\n",
       "    }\n",
       "\n",
       "    .dataframe tbody tr th {\n",
       "        vertical-align: top;\n",
       "    }\n",
       "\n",
       "    .dataframe thead th {\n",
       "        text-align: right;\n",
       "    }\n",
       "</style>\n",
       "<table border=\"1\" class=\"dataframe\">\n",
       "  <thead>\n",
       "    <tr style=\"text-align: right;\">\n",
       "      <th></th>\n",
       "      <th>repo_name</th>\n",
       "      <th>repo_total_commits</th>\n",
       "      <th>mined_commits</th>\n",
       "    </tr>\n",
       "    <tr>\n",
       "      <th>repo_index</th>\n",
       "      <th></th>\n",
       "      <th></th>\n",
       "      <th></th>\n",
       "    </tr>\n",
       "  </thead>\n",
       "  <tbody>\n",
       "    <tr>\n",
       "      <td>1</td>\n",
       "      <td>4455jkjh/Apktool-android</td>\n",
       "      <td>9</td>\n",
       "      <td>5</td>\n",
       "    </tr>\n",
       "    <tr>\n",
       "      <td>2</td>\n",
       "      <td>52Jolynn/SqlParser</td>\n",
       "      <td>36</td>\n",
       "      <td>10</td>\n",
       "    </tr>\n",
       "    <tr>\n",
       "      <td>3</td>\n",
       "      <td>Adrodoc/MPL</td>\n",
       "      <td>703</td>\n",
       "      <td>10</td>\n",
       "    </tr>\n",
       "    <tr>\n",
       "      <td>4</td>\n",
       "      <td>AlanHohn/antlr4-python</td>\n",
       "      <td>7</td>\n",
       "      <td>2</td>\n",
       "    </tr>\n",
       "    <tr>\n",
       "      <td>5</td>\n",
       "      <td>Andyccs/sqat</td>\n",
       "      <td>181</td>\n",
       "      <td>10</td>\n",
       "    </tr>\n",
       "    <tr>\n",
       "      <td>...</td>\n",
       "      <td>...</td>\n",
       "      <td>...</td>\n",
       "      <td>...</td>\n",
       "    </tr>\n",
       "    <tr>\n",
       "      <td>347</td>\n",
       "      <td>radkovo/jStyleParser</td>\n",
       "      <td>808</td>\n",
       "      <td>10</td>\n",
       "    </tr>\n",
       "    <tr>\n",
       "      <td>348</td>\n",
       "      <td>raphydaphy/Q-Programming-Language</td>\n",
       "      <td>50</td>\n",
       "      <td>10</td>\n",
       "    </tr>\n",
       "    <tr>\n",
       "      <td>349</td>\n",
       "      <td>rapidminer/rapidminer-studio</td>\n",
       "      <td>47</td>\n",
       "      <td>10</td>\n",
       "    </tr>\n",
       "    <tr>\n",
       "      <td>350</td>\n",
       "      <td>raydac/mvn-golang</td>\n",
       "      <td>589</td>\n",
       "      <td>10</td>\n",
       "    </tr>\n",
       "    <tr>\n",
       "      <td>351</td>\n",
       "      <td>rdclark/pptx2html</td>\n",
       "      <td>44</td>\n",
       "      <td>10</td>\n",
       "    </tr>\n",
       "  </tbody>\n",
       "</table>\n",
       "<p>159 rows × 3 columns</p>\n",
       "</div>"
      ],
      "text/plain": [
       "                                    repo_name  repo_total_commits  \\\n",
       "repo_index                                                          \n",
       "1                    4455jkjh/Apktool-android                   9   \n",
       "2                          52Jolynn/SqlParser                  36   \n",
       "3                                 Adrodoc/MPL                 703   \n",
       "4                      AlanHohn/antlr4-python                   7   \n",
       "5                                Andyccs/sqat                 181   \n",
       "...                                       ...                 ...   \n",
       "347                      radkovo/jStyleParser                 808   \n",
       "348         raphydaphy/Q-Programming-Language                  50   \n",
       "349              rapidminer/rapidminer-studio                  47   \n",
       "350                         raydac/mvn-golang                 589   \n",
       "351                         rdclark/pptx2html                  44   \n",
       "\n",
       "            mined_commits  \n",
       "repo_index                 \n",
       "1                       5  \n",
       "2                      10  \n",
       "3                      10  \n",
       "4                       2  \n",
       "5                      10  \n",
       "...                   ...  \n",
       "347                    10  \n",
       "348                    10  \n",
       "349                    10  \n",
       "350                    10  \n",
       "351                    10  \n",
       "\n",
       "[159 rows x 3 columns]"
      ]
     },
     "execution_count": 26,
     "metadata": {},
     "output_type": "execute_result"
    }
   ],
   "source": [
    "repo_info_df = pd.DataFrame(repo_info_list, columns=['repo_index', 'repo_name', 'repo_total_commits', 'mined_commits'])\n",
    "repo_info_df.set_index('repo_index', inplace=True)\n",
    "repo_info_df.sort_values('repo_index', ascending=True, inplace=True)\n",
    "repo_info_df"
   ]
  },
  {
   "cell_type": "code",
   "execution_count": 27,
   "metadata": {},
   "outputs": [
    {
     "data": {
      "text/plain": [
       "(151, 3)"
      ]
     },
     "execution_count": 27,
     "metadata": {},
     "output_type": "execute_result"
    }
   ],
   "source": [
    "repo_info_df = repo_info_df.loc[repo_info_df['mined_commits'] > 9]\n",
    "repo_info_df.shape"
   ]
  },
  {
   "cell_type": "code",
   "execution_count": 28,
   "metadata": {},
   "outputs": [
    {
     "data": {
      "text/html": [
       "<div>\n",
       "<style scoped>\n",
       "    .dataframe tbody tr th:only-of-type {\n",
       "        vertical-align: middle;\n",
       "    }\n",
       "\n",
       "    .dataframe tbody tr th {\n",
       "        vertical-align: top;\n",
       "    }\n",
       "\n",
       "    .dataframe thead th {\n",
       "        text-align: right;\n",
       "    }\n",
       "</style>\n",
       "<table border=\"1\" class=\"dataframe\">\n",
       "  <thead>\n",
       "    <tr style=\"text-align: right;\">\n",
       "      <th></th>\n",
       "      <th>repo_index</th>\n",
       "      <th>commit_id</th>\n",
       "      <th>hash_id</th>\n",
       "      <th>timestamp</th>\n",
       "      <th>complexity</th>\n",
       "      <th>listener_complexity</th>\n",
       "      <th>visitor_complexity</th>\n",
       "    </tr>\n",
       "  </thead>\n",
       "  <tbody>\n",
       "    <tr>\n",
       "      <td>821</td>\n",
       "      <td>1</td>\n",
       "      <td>1</td>\n",
       "      <td>2e0679cb43e155549d364529801c070fac311db1</td>\n",
       "      <td>2019-02-23 17:00:54+00:00</td>\n",
       "      <td>0</td>\n",
       "      <td>0</td>\n",
       "      <td>0</td>\n",
       "    </tr>\n",
       "    <tr>\n",
       "      <td>822</td>\n",
       "      <td>1</td>\n",
       "      <td>4</td>\n",
       "      <td>8c212d9f4352788498e802acd961fed72ef6e35f</td>\n",
       "      <td>2019-02-24 20:53:29+08:00</td>\n",
       "      <td>50</td>\n",
       "      <td>0</td>\n",
       "      <td>50</td>\n",
       "    </tr>\n",
       "    <tr>\n",
       "      <td>823</td>\n",
       "      <td>1</td>\n",
       "      <td>6</td>\n",
       "      <td>fb1f556579e93c7bd23a4a9bd946533043e618fc</td>\n",
       "      <td>2019-03-10 22:31:35+08:00</td>\n",
       "      <td>0</td>\n",
       "      <td>0</td>\n",
       "      <td>0</td>\n",
       "    </tr>\n",
       "    <tr>\n",
       "      <td>824</td>\n",
       "      <td>1</td>\n",
       "      <td>7</td>\n",
       "      <td>6b6abb2bf9c6b0feccd658053a531cb75280e8f5</td>\n",
       "      <td>2019-04-08 19:10:33+08:00</td>\n",
       "      <td>111</td>\n",
       "      <td>0</td>\n",
       "      <td>111</td>\n",
       "    </tr>\n",
       "    <tr>\n",
       "      <td>825</td>\n",
       "      <td>1</td>\n",
       "      <td>9</td>\n",
       "      <td>4c1841a582d1e79cb87d9221f948cf06a63e8384</td>\n",
       "      <td>2019-05-16 21:51:33+08:00</td>\n",
       "      <td>111</td>\n",
       "      <td>0</td>\n",
       "      <td>111</td>\n",
       "    </tr>\n",
       "    <tr>\n",
       "      <td>...</td>\n",
       "      <td>...</td>\n",
       "      <td>...</td>\n",
       "      <td>...</td>\n",
       "      <td>...</td>\n",
       "      <td>...</td>\n",
       "      <td>...</td>\n",
       "      <td>...</td>\n",
       "    </tr>\n",
       "    <tr>\n",
       "      <td>512</td>\n",
       "      <td>351</td>\n",
       "      <td>37</td>\n",
       "      <td>d1faa77bdc4f90ff004d71ebadc3eb6b7ec71aac</td>\n",
       "      <td>2014-10-31 14:43:24-07:00</td>\n",
       "      <td>0</td>\n",
       "      <td>0</td>\n",
       "      <td>0</td>\n",
       "    </tr>\n",
       "    <tr>\n",
       "      <td>513</td>\n",
       "      <td>351</td>\n",
       "      <td>40</td>\n",
       "      <td>27cf3bdc2a31dbbc399a9c4e0b63b75b1de9f56e</td>\n",
       "      <td>2014-11-04 19:11:22-08:00</td>\n",
       "      <td>0</td>\n",
       "      <td>0</td>\n",
       "      <td>0</td>\n",
       "    </tr>\n",
       "    <tr>\n",
       "      <td>514</td>\n",
       "      <td>351</td>\n",
       "      <td>41</td>\n",
       "      <td>34b138284a81d56eeea6151fd17f90f909b1c6f3</td>\n",
       "      <td>2014-11-06 10:16:54-08:00</td>\n",
       "      <td>0</td>\n",
       "      <td>0</td>\n",
       "      <td>0</td>\n",
       "    </tr>\n",
       "    <tr>\n",
       "      <td>515</td>\n",
       "      <td>351</td>\n",
       "      <td>42</td>\n",
       "      <td>bdea511bb40f13ab6d423b7e51aec4a902a2084e</td>\n",
       "      <td>2014-11-06 10:17:55-08:00</td>\n",
       "      <td>0</td>\n",
       "      <td>0</td>\n",
       "      <td>0</td>\n",
       "    </tr>\n",
       "    <tr>\n",
       "      <td>518</td>\n",
       "      <td>351</td>\n",
       "      <td>44</td>\n",
       "      <td>23eeebe1bb082980872054c2b8d511dd0bd27c2f</td>\n",
       "      <td>2016-03-16 19:27:01-07:00</td>\n",
       "      <td>10</td>\n",
       "      <td>10</td>\n",
       "      <td>0</td>\n",
       "    </tr>\n",
       "  </tbody>\n",
       "</table>\n",
       "<p>1536 rows × 7 columns</p>\n",
       "</div>"
      ],
      "text/plain": [
       "     repo_index  commit_id                                   hash_id  \\\n",
       "821           1          1  2e0679cb43e155549d364529801c070fac311db1   \n",
       "822           1          4  8c212d9f4352788498e802acd961fed72ef6e35f   \n",
       "823           1          6  fb1f556579e93c7bd23a4a9bd946533043e618fc   \n",
       "824           1          7  6b6abb2bf9c6b0feccd658053a531cb75280e8f5   \n",
       "825           1          9  4c1841a582d1e79cb87d9221f948cf06a63e8384   \n",
       "..          ...        ...                                       ...   \n",
       "512         351         37  d1faa77bdc4f90ff004d71ebadc3eb6b7ec71aac   \n",
       "513         351         40  27cf3bdc2a31dbbc399a9c4e0b63b75b1de9f56e   \n",
       "514         351         41  34b138284a81d56eeea6151fd17f90f909b1c6f3   \n",
       "515         351         42  bdea511bb40f13ab6d423b7e51aec4a902a2084e   \n",
       "518         351         44  23eeebe1bb082980872054c2b8d511dd0bd27c2f   \n",
       "\n",
       "                     timestamp  complexity  listener_complexity  \\\n",
       "821  2019-02-23 17:00:54+00:00           0                    0   \n",
       "822  2019-02-24 20:53:29+08:00          50                    0   \n",
       "823  2019-03-10 22:31:35+08:00           0                    0   \n",
       "824  2019-04-08 19:10:33+08:00         111                    0   \n",
       "825  2019-05-16 21:51:33+08:00         111                    0   \n",
       "..                         ...         ...                  ...   \n",
       "512  2014-10-31 14:43:24-07:00           0                    0   \n",
       "513  2014-11-04 19:11:22-08:00           0                    0   \n",
       "514  2014-11-06 10:16:54-08:00           0                    0   \n",
       "515  2014-11-06 10:17:55-08:00           0                    0   \n",
       "518  2016-03-16 19:27:01-07:00          10                   10   \n",
       "\n",
       "     visitor_complexity  \n",
       "821                   0  \n",
       "822                  50  \n",
       "823                   0  \n",
       "824                 111  \n",
       "825                 111  \n",
       "..                  ...  \n",
       "512                   0  \n",
       "513                   0  \n",
       "514                   0  \n",
       "515                   0  \n",
       "518                   0  \n",
       "\n",
       "[1536 rows x 7 columns]"
      ]
     },
     "execution_count": 28,
     "metadata": {},
     "output_type": "execute_result"
    }
   ],
   "source": [
    "repo_commit_df = pd.DataFrame(repo_commit_data_list, columns=['repo_index', 'commit_id', 'hash_id', 'timestamp', 'complexity', 'listener_complexity', 'visitor_complexity'])\n",
    "repo_commit_df.sort_values(['repo_index', 'commit_id'], ascending=[True, True], inplace=True)\n",
    "repo_commit_df"
   ]
  },
  {
   "cell_type": "code",
   "execution_count": 29,
   "metadata": {},
   "outputs": [
    {
     "data": {
      "text/plain": [
       "(1510, 7)"
      ]
     },
     "execution_count": 29,
     "metadata": {},
     "output_type": "execute_result"
    }
   ],
   "source": [
    "repo_index_list = list(repo_info_df.index)\n",
    "repo_commit_df = repo_commit_df.loc[repo_commit_df['repo_index'].isin(repo_index_list)]\n",
    "repo_commit_df.shape"
   ]
  },
  {
   "cell_type": "code",
   "execution_count": 30,
   "metadata": {},
   "outputs": [
    {
     "name": "stderr",
     "output_type": "stream",
     "text": [
      "/home/praveen/anaconda3/lib/python3.7/site-packages/ipykernel_launcher.py:5: SettingWithCopyWarning: \n",
      "A value is trying to be set on a copy of a slice from a DataFrame.\n",
      "Try using .loc[row_indexer,col_indexer] = value instead\n",
      "\n",
      "See the caveats in the documentation: http://pandas.pydata.org/pandas-docs/stable/user_guide/indexing.html#returning-a-view-versus-a-copy\n",
      "  \"\"\"\n"
     ]
    },
    {
     "data": {
      "text/plain": [
       "(1510, 8)"
      ]
     },
     "execution_count": 30,
     "metadata": {},
     "output_type": "execute_result"
    }
   ],
   "source": [
    "commit_group_index_list = []\n",
    "sample_list = range(1, 11)\n",
    "for value in range(len(repo_info_df.index)):\n",
    "    commit_group_index_list.extend(sample_list)\n",
    "repo_commit_df['commit_group_id'] = commit_group_index_list\n",
    "repo_commit_df.shape"
   ]
  },
  {
   "cell_type": "code",
   "execution_count": 31,
   "metadata": {},
   "outputs": [
    {
     "data": {
      "text/plain": [
       "(106, 2)"
      ]
     },
     "execution_count": 31,
     "metadata": {},
     "output_type": "execute_result"
    }
   ],
   "source": [
    "repo_complexity_df = repo_commit_df.groupby('repo_index', as_index=False)['complexity'].sum()\n",
    "repo_complexity_df = repo_complexity_df.loc[repo_complexity_df['complexity'] != 0.0]\n",
    "repo_complexity_df.shape"
   ]
  },
  {
   "cell_type": "code",
   "execution_count": 32,
   "metadata": {},
   "outputs": [
    {
     "data": {
      "text/plain": [
       "(1060, 8)"
      ]
     },
     "execution_count": 32,
     "metadata": {},
     "output_type": "execute_result"
    }
   ],
   "source": [
    "repo_commit_df = repo_commit_df.loc[repo_commit_df['repo_index'].isin(repo_complexity_df.repo_index)]\n",
    "repo_commit_df.shape"
   ]
  },
  {
   "cell_type": "code",
   "execution_count": 35,
   "metadata": {},
   "outputs": [],
   "source": [
    "avg_commit_comp_df = repo_commit_df.groupby('commit_group_id', as_index=False)['complexity'].mean()\n",
    "total_y_values = avg_commit_comp_df['complexity']\n",
    "avg_commit_comp_df = repo_commit_df.groupby('commit_group_id', as_index=False)['listener_complexity'].mean()\n",
    "listener_y_values = avg_commit_comp_df['listener_complexity']\n",
    "avg_commit_comp_df = repo_commit_df.groupby('commit_group_id', as_index=False)['visitor_complexity'].mean()\n",
    "visitor_y_values = avg_commit_comp_df['visitor_complexity']"
   ]
  },
  {
   "cell_type": "code",
   "execution_count": 45,
   "metadata": {},
   "outputs": [
    {
     "data": {
      "image/png": "[encoded data removed]",
      "text/plain": [
       "<Figure size 720x360 with 1 Axes>"
      ]
     },
     "metadata": {
      "needs_background": "light"
     },
     "output_type": "display_data"
    }
   ],
   "source": [
    "x_values = ['c_'+str(value) for value in avg_commit_comp_df['commit_group_id']]\n",
    "plot_line_graph(x_values, total_y_values, listener_y_values, visitor_y_values, \"commits(1-10)\", \"Average Complexity\", \"All Repositories Complexity Distribution of linear commits\")"
   ]
  },
  {
   "cell_type": "code",
   "execution_count": null,
   "metadata": {},
   "outputs": [],
   "source": [
    "x_values_bar_graph = ['C_6_7_8', 'C_9_10', 'Complexity_shift']\n"
   ]
  }
 ],
 "metadata": {
  "kernelspec": {
   "display_name": "Python 3",
   "language": "python",
   "name": "python3"
  },
  "language_info": {
   "codemirror_mode": {
    "name": "ipython",
    "version": 3
   },
   "file_extension": ".py",
   "mimetype": "text/x-python",
   "name": "python",
   "nbconvert_exporter": "python",
   "pygments_lexer": "ipython3",
   "version": "3.7.4"
  }
 },
 "nbformat": 4,
 "nbformat_minor": 2
}
