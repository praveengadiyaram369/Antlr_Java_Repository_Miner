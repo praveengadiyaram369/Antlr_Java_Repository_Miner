{
 "cells": [
  {
   "cell_type": "code",
   "execution_count": 1,
   "metadata": {},
   "outputs": [],
   "source": [
    "import json\n",
    "from datetime import datetime\n",
    "\n",
    "import numpy as np\n",
    "import pandas as pd\n",
    "import matplotlib.pyplot as plt\n",
    "import matplotlib.dates as mdates\n",
    "%matplotlib inline"
   ]
  },
  {
   "cell_type": "code",
   "execution_count": 2,
   "metadata": {},
   "outputs": [],
   "source": [
    "#_creating default figure size of matplotlib\n",
    "plt.rcParams['figure.figsize'] = 10.0, 5.0"
   ]
  },
  {
   "cell_type": "code",
   "execution_count": 3,
   "metadata": {},
   "outputs": [],
   "source": [
    "def plot_line_graph(x_values, total_y_values, listener_y_values, visitor_y_values,x_label, y_label, title):\n",
    "    plt.plot(x_values, total_y_values, label= 'Total Complexity')\n",
    "    plt.plot(x_values, listener_y_values, label= 'Listener Complexity')\n",
    "    plt.plot(x_values, visitor_y_values, label= 'Visitor Complexity')\n",
    "    plt.xlabel(x_label)\n",
    "    plt.ylabel(y_label)\n",
    "    plt.title(title)\n",
    "    plt.legend(loc=\"upper left\")\n",
    "    plt.show()"
   ]
  },
  {
   "cell_type": "code",
   "execution_count": 69,
   "metadata": {},
   "outputs": [],
   "source": [
    "def plot_bar_graph(x_values, listener_repo_cnt, visitor_repo_cnt, listener_visitor_repo_cnt):\n",
    "    locations = np.arange(len(x_values)) \n",
    "    width = 0.15 #_considering width as size of each bar\n",
    "\n",
    "    #_plotting bar graphs for each fruit frequency \n",
    "    plt.bar(locations - 0.15, listener_repo_cnt, width, label='Commits with Listener change', color = \"orange\", edgecolor = \"k\", hatch=\"/\")\n",
    "    plt.bar(locations , visitor_repo_cnt, width, label='Commits with Visitor change',  color = \"green\", edgecolor = \"k\", hatch=\".\")\n",
    "    plt.bar(locations + 0.15, listener_visitor_repo_cnt, width, label='Commits with both Listener and Visitor change',  color = \"blue\", edgecolor = \"k\", hatch=\"\\\\\")\n",
    "\n",
    "    #_mapping x labels to the graph\n",
    "    plt.xticks(np.arange(len(x_values)), x_values)\n",
    "    plt.ylabel('No. of unique commits')\n",
    "    plt.title('Commit frequencies of Antlr4 Patterns')\n",
    "    plt.legend()\n",
    "    plt.show()"
   ]
  },
  {
   "cell_type": "code",
   "execution_count": 52,
   "metadata": {},
   "outputs": [],
   "source": [
    "def get_repo_pattern_cnt(commit_id_list, pattern_type):\n",
    "    repo_commit_bar_df = repo_commit_df.loc[repo_commit_df['commit_group_id'].isin(commit_id_list)]\n",
    "    if pattern_type == 'listener_visitor':\n",
    "        repo_commit_bar_df = repo_commit_bar_df.loc[(repo_commit_bar_df['listener_complexity'] > 0) & (repo_commit_bar_df['visitor_complexity'] > 0)]\n",
    "    else:\n",
    "        repo_commit_bar_df = repo_commit_bar_df.loc[repo_commit_bar_df[pattern_type] > 0]\n",
    "    return len(repo_commit_bar_df.index)"
   ]
  },
  {
   "cell_type": "code",
   "execution_count": 4,
   "metadata": {},
   "outputs": [],
   "source": [
    "def get_commit_compleity_data(repo_id, commit):\n",
    "    listener_complexity = 0\n",
    "    visitor_complexity = 0\n",
    "    for antlr_file in commit['_changed_files_list']:\n",
    "        listener_complexity += (antlr_file['_enter_cnt'] + antlr_file['_exit_cnt'])\n",
    "        visitor_complexity += antlr_file['_visit_cnt']\n",
    "    return (repo_id, commit['_commit_index'], commit['_sha_id'], commit['_timestamp'], (listener_complexity + visitor_complexity), listener_complexity, visitor_complexity)"
   ]
  },
  {
   "cell_type": "code",
   "execution_count": 5,
   "metadata": {},
   "outputs": [],
   "source": [
    "with open('final_repo_data.json', \"r\", encoding='utf-8', errors='ignore') as infile:\n",
    "    repo_info_list = []\n",
    "    repo_commit_data_list = []\n",
    "    json_object_list = json.load(infile, strict=False)\n",
    "    for repo in json_object_list:\n",
    "        repo_info_list.append((repo['_repo_id'], repo['_repo_name'], repo['_total_commits'], len(repo['_commit_history'])))\n",
    "        for commit in repo['_commit_history']:\n",
    "            repo_commit_data_list.append(get_commit_compleity_data(repo['_repo_id'], commit))"
   ]
  },
  {
   "cell_type": "code",
   "execution_count": 6,
   "metadata": {},
   "outputs": [
    {
     "data": {
      "text/html": [
       "<div>\n",
       "<style scoped>\n",
       "    .dataframe tbody tr th:only-of-type {\n",
       "        vertical-align: middle;\n",
       "    }\n",
       "\n",
       "    .dataframe tbody tr th {\n",
       "        vertical-align: top;\n",
       "    }\n",
       "\n",
       "    .dataframe thead th {\n",
       "        text-align: right;\n",
       "    }\n",
       "</style>\n",
       "<table border=\"1\" class=\"dataframe\">\n",
       "  <thead>\n",
       "    <tr style=\"text-align: right;\">\n",
       "      <th></th>\n",
       "      <th>repo_name</th>\n",
       "      <th>repo_total_commits</th>\n",
       "      <th>mined_commits</th>\n",
       "    </tr>\n",
       "    <tr>\n",
       "      <th>repo_index</th>\n",
       "      <th></th>\n",
       "      <th></th>\n",
       "      <th></th>\n",
       "    </tr>\n",
       "  </thead>\n",
       "  <tbody>\n",
       "    <tr>\n",
       "      <td>1</td>\n",
       "      <td>4455jkjh/Apktool-android</td>\n",
       "      <td>9</td>\n",
       "      <td>5</td>\n",
       "    </tr>\n",
       "    <tr>\n",
       "      <td>2</td>\n",
       "      <td>52Jolynn/SqlParser</td>\n",
       "      <td>36</td>\n",
       "      <td>10</td>\n",
       "    </tr>\n",
       "    <tr>\n",
       "      <td>3</td>\n",
       "      <td>Adrodoc/MPL</td>\n",
       "      <td>703</td>\n",
       "      <td>10</td>\n",
       "    </tr>\n",
       "    <tr>\n",
       "      <td>4</td>\n",
       "      <td>AlanHohn/antlr4-python</td>\n",
       "      <td>7</td>\n",
       "      <td>2</td>\n",
       "    </tr>\n",
       "    <tr>\n",
       "      <td>5</td>\n",
       "      <td>Andyccs/sqat</td>\n",
       "      <td>181</td>\n",
       "      <td>10</td>\n",
       "    </tr>\n",
       "    <tr>\n",
       "      <td>...</td>\n",
       "      <td>...</td>\n",
       "      <td>...</td>\n",
       "      <td>...</td>\n",
       "    </tr>\n",
       "    <tr>\n",
       "      <td>434</td>\n",
       "      <td>zendesk/maxwell</td>\n",
       "      <td>2965</td>\n",
       "      <td>10</td>\n",
       "    </tr>\n",
       "    <tr>\n",
       "      <td>435</td>\n",
       "      <td>zhegexiaohuozi/JsoupXpath</td>\n",
       "      <td>168</td>\n",
       "      <td>10</td>\n",
       "    </tr>\n",
       "    <tr>\n",
       "      <td>436</td>\n",
       "      <td>zhunki/skyfire</td>\n",
       "      <td>25</td>\n",
       "      <td>10</td>\n",
       "    </tr>\n",
       "    <tr>\n",
       "      <td>437</td>\n",
       "      <td>zkoss/ztl</td>\n",
       "      <td>279</td>\n",
       "      <td>10</td>\n",
       "    </tr>\n",
       "    <tr>\n",
       "      <td>438</td>\n",
       "      <td>zstackio/zstack</td>\n",
       "      <td>8683</td>\n",
       "      <td>10</td>\n",
       "    </tr>\n",
       "  </tbody>\n",
       "</table>\n",
       "<p>438 rows × 3 columns</p>\n",
       "</div>"
      ],
      "text/plain": [
       "                            repo_name  repo_total_commits  mined_commits\n",
       "repo_index                                                              \n",
       "1            4455jkjh/Apktool-android                   9              5\n",
       "2                  52Jolynn/SqlParser                  36             10\n",
       "3                         Adrodoc/MPL                 703             10\n",
       "4              AlanHohn/antlr4-python                   7              2\n",
       "5                        Andyccs/sqat                 181             10\n",
       "...                               ...                 ...            ...\n",
       "434                   zendesk/maxwell                2965             10\n",
       "435         zhegexiaohuozi/JsoupXpath                 168             10\n",
       "436                    zhunki/skyfire                  25             10\n",
       "437                         zkoss/ztl                 279             10\n",
       "438                   zstackio/zstack                8683             10\n",
       "\n",
       "[438 rows x 3 columns]"
      ]
     },
     "execution_count": 6,
     "metadata": {},
     "output_type": "execute_result"
    }
   ],
   "source": [
    "repo_info_df = pd.DataFrame(repo_info_list, columns=['repo_index', 'repo_name', 'repo_total_commits', 'mined_commits'])\n",
    "repo_info_df.set_index('repo_index', inplace=True)\n",
    "repo_info_df.sort_values('repo_index', ascending=True, inplace=True)\n",
    "repo_info_df"
   ]
  },
  {
   "cell_type": "code",
   "execution_count": 7,
   "metadata": {},
   "outputs": [
    {
     "data": {
      "text/plain": [
       "(411, 3)"
      ]
     },
     "execution_count": 7,
     "metadata": {},
     "output_type": "execute_result"
    }
   ],
   "source": [
    "repo_info_df = repo_info_df.loc[repo_info_df['mined_commits'] > 9]\n",
    "repo_info_df.shape"
   ]
  },
  {
   "cell_type": "code",
   "execution_count": 8,
   "metadata": {},
   "outputs": [
    {
     "data": {
      "text/html": [
       "<div>\n",
       "<style scoped>\n",
       "    .dataframe tbody tr th:only-of-type {\n",
       "        vertical-align: middle;\n",
       "    }\n",
       "\n",
       "    .dataframe tbody tr th {\n",
       "        vertical-align: top;\n",
       "    }\n",
       "\n",
       "    .dataframe thead th {\n",
       "        text-align: right;\n",
       "    }\n",
       "</style>\n",
       "<table border=\"1\" class=\"dataframe\">\n",
       "  <thead>\n",
       "    <tr style=\"text-align: right;\">\n",
       "      <th></th>\n",
       "      <th>repo_index</th>\n",
       "      <th>commit_id</th>\n",
       "      <th>hash_id</th>\n",
       "      <th>timestamp</th>\n",
       "      <th>complexity</th>\n",
       "      <th>listener_complexity</th>\n",
       "      <th>visitor_complexity</th>\n",
       "    </tr>\n",
       "  </thead>\n",
       "  <tbody>\n",
       "    <tr>\n",
       "      <td>2165</td>\n",
       "      <td>1</td>\n",
       "      <td>1</td>\n",
       "      <td>2e0679cb43e155549d364529801c070fac311db1</td>\n",
       "      <td>2019-02-23 17:00:54+00:00</td>\n",
       "      <td>0</td>\n",
       "      <td>0</td>\n",
       "      <td>0</td>\n",
       "    </tr>\n",
       "    <tr>\n",
       "      <td>2166</td>\n",
       "      <td>1</td>\n",
       "      <td>4</td>\n",
       "      <td>8c212d9f4352788498e802acd961fed72ef6e35f</td>\n",
       "      <td>2019-02-24 20:53:29+08:00</td>\n",
       "      <td>50</td>\n",
       "      <td>0</td>\n",
       "      <td>50</td>\n",
       "    </tr>\n",
       "    <tr>\n",
       "      <td>2167</td>\n",
       "      <td>1</td>\n",
       "      <td>6</td>\n",
       "      <td>fb1f556579e93c7bd23a4a9bd946533043e618fc</td>\n",
       "      <td>2019-03-10 22:31:35+08:00</td>\n",
       "      <td>0</td>\n",
       "      <td>0</td>\n",
       "      <td>0</td>\n",
       "    </tr>\n",
       "    <tr>\n",
       "      <td>2168</td>\n",
       "      <td>1</td>\n",
       "      <td>7</td>\n",
       "      <td>6b6abb2bf9c6b0feccd658053a531cb75280e8f5</td>\n",
       "      <td>2019-04-08 19:10:33+08:00</td>\n",
       "      <td>111</td>\n",
       "      <td>0</td>\n",
       "      <td>111</td>\n",
       "    </tr>\n",
       "    <tr>\n",
       "      <td>2169</td>\n",
       "      <td>1</td>\n",
       "      <td>9</td>\n",
       "      <td>4c1841a582d1e79cb87d9221f948cf06a63e8384</td>\n",
       "      <td>2019-05-16 21:51:33+08:00</td>\n",
       "      <td>111</td>\n",
       "      <td>0</td>\n",
       "      <td>111</td>\n",
       "    </tr>\n",
       "    <tr>\n",
       "      <td>...</td>\n",
       "      <td>...</td>\n",
       "      <td>...</td>\n",
       "      <td>...</td>\n",
       "      <td>...</td>\n",
       "      <td>...</td>\n",
       "      <td>...</td>\n",
       "      <td>...</td>\n",
       "    </tr>\n",
       "    <tr>\n",
       "      <td>1062</td>\n",
       "      <td>438</td>\n",
       "      <td>8410</td>\n",
       "      <td>c1495c90bed45c74449027ab1a592af1841de7aa</td>\n",
       "      <td>2019-10-25 17:23:55+08:00</td>\n",
       "      <td>0</td>\n",
       "      <td>0</td>\n",
       "      <td>0</td>\n",
       "    </tr>\n",
       "    <tr>\n",
       "      <td>1063</td>\n",
       "      <td>438</td>\n",
       "      <td>8546</td>\n",
       "      <td>12837231c5af1f49d6850b1a1ec18cb6a4d3d696</td>\n",
       "      <td>2019-12-05 20:35:45+08:00</td>\n",
       "      <td>0</td>\n",
       "      <td>0</td>\n",
       "      <td>0</td>\n",
       "    </tr>\n",
       "    <tr>\n",
       "      <td>1064</td>\n",
       "      <td>438</td>\n",
       "      <td>8614</td>\n",
       "      <td>8cf5f080d69c1c7db9c63631dda73be311865f8e</td>\n",
       "      <td>2019-12-26 10:48:55+08:00</td>\n",
       "      <td>0</td>\n",
       "      <td>0</td>\n",
       "      <td>0</td>\n",
       "    </tr>\n",
       "    <tr>\n",
       "      <td>1065</td>\n",
       "      <td>438</td>\n",
       "      <td>8648</td>\n",
       "      <td>86a817f82e7a6be984b2ab9a43a3f67fd239db1c</td>\n",
       "      <td>2019-12-30 13:38:25+08:00</td>\n",
       "      <td>0</td>\n",
       "      <td>0</td>\n",
       "      <td>0</td>\n",
       "    </tr>\n",
       "    <tr>\n",
       "      <td>1066</td>\n",
       "      <td>438</td>\n",
       "      <td>8683</td>\n",
       "      <td>eb41103d870ec9328962cd0023c935ab4a7f2f76</td>\n",
       "      <td>2020-01-07 10:29:20+08:00</td>\n",
       "      <td>30</td>\n",
       "      <td>0</td>\n",
       "      <td>30</td>\n",
       "    </tr>\n",
       "  </tbody>\n",
       "</table>\n",
       "<p>4186 rows × 7 columns</p>\n",
       "</div>"
      ],
      "text/plain": [
       "      repo_index  commit_id                                   hash_id  \\\n",
       "2165           1          1  2e0679cb43e155549d364529801c070fac311db1   \n",
       "2166           1          4  8c212d9f4352788498e802acd961fed72ef6e35f   \n",
       "2167           1          6  fb1f556579e93c7bd23a4a9bd946533043e618fc   \n",
       "2168           1          7  6b6abb2bf9c6b0feccd658053a531cb75280e8f5   \n",
       "2169           1          9  4c1841a582d1e79cb87d9221f948cf06a63e8384   \n",
       "...          ...        ...                                       ...   \n",
       "1062         438       8410  c1495c90bed45c74449027ab1a592af1841de7aa   \n",
       "1063         438       8546  12837231c5af1f49d6850b1a1ec18cb6a4d3d696   \n",
       "1064         438       8614  8cf5f080d69c1c7db9c63631dda73be311865f8e   \n",
       "1065         438       8648  86a817f82e7a6be984b2ab9a43a3f67fd239db1c   \n",
       "1066         438       8683  eb41103d870ec9328962cd0023c935ab4a7f2f76   \n",
       "\n",
       "                      timestamp  complexity  listener_complexity  \\\n",
       "2165  2019-02-23 17:00:54+00:00           0                    0   \n",
       "2166  2019-02-24 20:53:29+08:00          50                    0   \n",
       "2167  2019-03-10 22:31:35+08:00           0                    0   \n",
       "2168  2019-04-08 19:10:33+08:00         111                    0   \n",
       "2169  2019-05-16 21:51:33+08:00         111                    0   \n",
       "...                         ...         ...                  ...   \n",
       "1062  2019-10-25 17:23:55+08:00           0                    0   \n",
       "1063  2019-12-05 20:35:45+08:00           0                    0   \n",
       "1064  2019-12-26 10:48:55+08:00           0                    0   \n",
       "1065  2019-12-30 13:38:25+08:00           0                    0   \n",
       "1066  2020-01-07 10:29:20+08:00          30                    0   \n",
       "\n",
       "      visitor_complexity  \n",
       "2165                   0  \n",
       "2166                  50  \n",
       "2167                   0  \n",
       "2168                 111  \n",
       "2169                 111  \n",
       "...                  ...  \n",
       "1062                   0  \n",
       "1063                   0  \n",
       "1064                   0  \n",
       "1065                   0  \n",
       "1066                  30  \n",
       "\n",
       "[4186 rows x 7 columns]"
      ]
     },
     "execution_count": 8,
     "metadata": {},
     "output_type": "execute_result"
    }
   ],
   "source": [
    "repo_commit_df = pd.DataFrame(repo_commit_data_list, columns=['repo_index', 'commit_id', 'hash_id', 'timestamp', 'complexity', 'listener_complexity', 'visitor_complexity'])\n",
    "repo_commit_df.sort_values(['repo_index', 'commit_id'], ascending=[True, True], inplace=True)\n",
    "repo_commit_df"
   ]
  },
  {
   "cell_type": "code",
   "execution_count": 9,
   "metadata": {},
   "outputs": [
    {
     "data": {
      "text/plain": [
       "(4110, 7)"
      ]
     },
     "execution_count": 9,
     "metadata": {},
     "output_type": "execute_result"
    }
   ],
   "source": [
    "repo_index_list = list(repo_info_df.index)\n",
    "repo_commit_df = repo_commit_df.loc[repo_commit_df['repo_index'].isin(repo_index_list)]\n",
    "repo_commit_df.shape"
   ]
  },
  {
   "cell_type": "code",
   "execution_count": 10,
   "metadata": {},
   "outputs": [
    {
     "name": "stderr",
     "output_type": "stream",
     "text": [
      "/home/praveen/anaconda3/lib/python3.7/site-packages/ipykernel_launcher.py:5: SettingWithCopyWarning: \n",
      "A value is trying to be set on a copy of a slice from a DataFrame.\n",
      "Try using .loc[row_indexer,col_indexer] = value instead\n",
      "\n",
      "See the caveats in the documentation: http://pandas.pydata.org/pandas-docs/stable/user_guide/indexing.html#returning-a-view-versus-a-copy\n",
      "  \"\"\"\n"
     ]
    },
    {
     "data": {
      "text/plain": [
       "(4110, 8)"
      ]
     },
     "execution_count": 10,
     "metadata": {},
     "output_type": "execute_result"
    }
   ],
   "source": [
    "commit_group_index_list = []\n",
    "sample_list = range(1, 11)\n",
    "for value in range(len(repo_info_df.index)):\n",
    "    commit_group_index_list.extend(sample_list)\n",
    "repo_commit_df['commit_group_id'] = commit_group_index_list\n",
    "repo_commit_df.shape"
   ]
  },
  {
   "cell_type": "code",
   "execution_count": 11,
   "metadata": {},
   "outputs": [
    {
     "data": {
      "text/plain": [
       "(264, 2)"
      ]
     },
     "execution_count": 11,
     "metadata": {},
     "output_type": "execute_result"
    }
   ],
   "source": [
    "repo_complexity_df = repo_commit_df.groupby('repo_index', as_index=False)['complexity'].sum()\n",
    "repo_complexity_df = repo_complexity_df.loc[repo_complexity_df['complexity'] != 0.0]\n",
    "repo_complexity_df.shape"
   ]
  },
  {
   "cell_type": "code",
   "execution_count": 13,
   "metadata": {},
   "outputs": [
    {
     "data": {
      "text/plain": [
       "(2640, 8)"
      ]
     },
     "execution_count": 13,
     "metadata": {},
     "output_type": "execute_result"
    }
   ],
   "source": [
    "repo_commit_df = repo_commit_df.loc[repo_commit_df['repo_index'].isin(repo_complexity_df.repo_index)]\n",
    "repo_commit_df.shape"
   ]
  },
  {
   "cell_type": "code",
   "execution_count": 14,
   "metadata": {},
   "outputs": [],
   "source": [
    "avg_commit_comp_df = repo_commit_df.groupby('commit_group_id', as_index=False)['complexity'].mean()\n",
    "total_y_values = avg_commit_comp_df['complexity']\n",
    "avg_commit_comp_df = repo_commit_df.groupby('commit_group_id', as_index=False)['listener_complexity'].mean()\n",
    "listener_y_values = avg_commit_comp_df['listener_complexity']\n",
    "avg_commit_comp_df = repo_commit_df.groupby('commit_group_id', as_index=False)['visitor_complexity'].mean()\n",
    "visitor_y_values = avg_commit_comp_df['visitor_complexity']"
   ]
  },
  {
   "cell_type": "code",
   "execution_count": 15,
   "metadata": {},
   "outputs": [
    {
     "data": {
      "image/png": "[encoded data removed]",
      "text/plain": [
       "<Figure size 720x360 with 1 Axes>"
      ]
     },
     "metadata": {
      "needs_background": "light"
     },
     "output_type": "display_data"
    }
   ],
   "source": [
    "x_values = ['c_'+str(value) for value in avg_commit_comp_df['commit_group_id']]\n",
    "plot_line_graph(x_values, total_y_values, listener_y_values, visitor_y_values, \"commits(1-10)\", \"Average Complexity\", \"All Repositories Complexity Distribution of linear commits\")"
   ]
  },
  {
   "cell_type": "code",
   "execution_count": 72,
   "metadata": {},
   "outputs": [],
   "source": [
    "listener_repo_cnt = []\n",
    "visitor_repo_cnt = []\n",
    "listener_visitor_repo_cnt =  []\n",
    "\n",
    "listener_repo_cnt.append(get_repo_pattern_cnt([5, 6, 7], 'listener_complexity'))\n",
    "listener_repo_cnt.append(get_repo_pattern_cnt([9, 10], 'listener_complexity'))\n",
    "visitor_repo_cnt.append(get_repo_pattern_cnt([5, 6, 7], 'visitor_complexity'))\n",
    "visitor_repo_cnt.append(get_repo_pattern_cnt([9, 10], 'visitor_complexity'))\n",
    "listener_visitor_repo_cnt.append(get_repo_pattern_cnt([5, 6, 7], 'listener_visitor'))\n",
    "listener_visitor_repo_cnt.append(get_repo_pattern_cnt([9, 10], 'listener_visitor'))"
   ]
  },
  {
   "cell_type": "code",
   "execution_count": 73,
   "metadata": {},
   "outputs": [
    {
     "data": {
      "image/png": "[encoded data removed]",
      "text/plain": [
       "<Figure size 720x360 with 1 Axes>"
      ]
     },
     "metadata": {
      "needs_background": "light"
     },
     "output_type": "display_data"
    }
   ],
   "source": [
    "x_values_bar_graph = ['Commits_6_7_8', 'Commits_9_10']\n",
    "plot_bar_graph(x_values_bar_graph, listener_repo_cnt, visitor_repo_cnt, listener_visitor_repo_cnt)"
   ]
  }
 ],
 "metadata": {
  "kernelspec": {
   "display_name": "Python 3",
   "language": "python",
   "name": "python3"
  },
  "language_info": {
   "codemirror_mode": {
    "name": "ipython",
    "version": 3
   },
   "file_extension": ".py",
   "mimetype": "text/x-python",
   "name": "python",
   "nbconvert_exporter": "python",
   "pygments_lexer": "ipython3",
   "version": "3.7.4"
  }
 },
 "nbformat": 4,
 "nbformat_minor": 2
}
